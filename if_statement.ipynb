{
 "nbformat": 4,
 "nbformat_minor": 2,
 "metadata": {
  "language_info": {
   "name": "python",
   "codemirror_mode": {
    "name": "ipython",
    "version": 3
   },
   "version": "3.7.4-final"
  },
  "orig_nbformat": 2,
  "file_extension": ".py",
  "mimetype": "text/x-python",
  "name": "python",
  "npconvert_exporter": "python",
  "pygments_lexer": "ipython3",
  "version": 3,
  "kernelspec": {
   "name": "python37464bitbasecondaf0706b43a6b3489e9350974813357002",
   "display_name": "Python 3.7.4 64-bit ('base': conda)"
  }
 },
 "cells": [
  {
   "cell_type": "code",
   "execution_count": 2,
   "metadata": {},
   "outputs": [],
   "source": [
    "import numpy as np\n",
    "from numpy.random import randn"
   ]
  },
  {
   "cell_type": "code",
   "execution_count": 73,
   "metadata": {},
   "outputs": [
    {
     "output_type": "execute_result",
     "data": {
      "text/plain": "-0.5906623422593956"
     },
     "metadata": {},
     "execution_count": 73
    }
   ],
   "source": [
    "randn()"
   ]
  },
  {
   "cell_type": "code",
   "execution_count": 96,
   "metadata": {},
   "outputs": [
    {
     "output_type": "stream",
     "name": "stdout",
     "text": "< -1: 1605 \nbtwn -1 and 1: 6744 \n> 1:1651\n"
    }
   ],
   "source": [
    "v1 = 0 # x < -1\n",
    "v2 = 0 # -1 <= x <= 1\n",
    "v3 = 0 # x > 1\n",
    "ans = None \n",
    "\n",
    "for i in range(10000):\n",
    "    x = randn()\n",
    "    if x < -1:\n",
    "        v1 += 1\n",
    "    elif x > 1: \n",
    "        v3 += 1\n",
    "    else:\n",
    "        v2 += 1\n",
    "print('< -1: %d \\nbtwn -1 and 1: %d \\n> 1:%d' % (v1, v2, v3))\n",
    ""
   ]
  },
  {
   "cell_type": "code",
   "execution_count": null,
   "metadata": {},
   "outputs": [],
   "source": []
  }
 ]
}