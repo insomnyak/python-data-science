{
 "nbformat": 4,
 "nbformat_minor": 2,
 "metadata": {
  "language_info": {
   "name": "python",
   "codemirror_mode": {
    "name": "ipython",
    "version": 3
   },
   "version": "3.7.4-final"
  },
  "orig_nbformat": 2,
  "file_extension": ".py",
  "mimetype": "text/x-python",
  "name": "python",
  "npconvert_exporter": "python",
  "pygments_lexer": "ipython3",
  "version": 3,
  "kernelspec": {
   "name": "python37464bitbasecondaf0706b43a6b3489e9350974813357002",
   "display_name": "Python 3.7.4 64-bit ('base': conda)"
  }
 },
 "cells": [
  {
   "cell_type": "code",
   "execution_count": 2,
   "metadata": {},
   "outputs": [],
   "source": [
    "import dash\n",
    "import dash_core_components as dcc \n",
    "import dash_html_components as html \n",
    "\n",
    "import numpy as np \n",
    "import pandas as pd "
   ]
  },
  {
   "cell_type": "code",
   "execution_count": null,
   "metadata": {},
   "outputs": [],
   "source": [
    "external_stylesheets = ['https://codepen.io/chriddyp/pen/bWLwgP.css']\n",
    "app = dash.Dash(__name__, external_stylesheets=external_stylesheets)"
   ]
  },
  {
   "cell_type": "code",
   "execution_count": null,
   "metadata": {},
   "outputs": [],
   "source": [
    "app.layout = html.Div(children=[\n",
    "    html.H1(children='Hello Dash'),\n",
    "    html.Div(children='''\n",
    "        Dash: A web application framework for Python.\n",
    "    '''),\n",
    "    dcc.Graph(\n",
    "        id='example-graph',\n",
    "        figure= {\n",
    "            'data': [\n",
    "                {'x': [1, 2, 3], 'y': [4, 1, 2], 'type': 'bar', 'name': 'SF'},\n",
    "                {'x': [1, 2, 3], 'y': [2, 4, 5], 'type': 'bar', 'name': u'Montréal'}\n",
    "            ],\n",
    "            'layout': {\n",
    "                'title': 'Dash Data Visualization'\n",
    "            }\n",
    "        }\n",
    "    )\n",
    "])"
   ]
  },
  {
   "cell_type": "code",
   "execution_count": null,
   "metadata": {},
   "outputs": [],
   "source": [
    "if __name__ == '__main__':\n",
    "    app.run_server(debug=True)"
   ]
  },
  {
   "cell_type": "code",
   "execution_count": 3,
   "metadata": {},
   "outputs": [
    {
     "output_type": "stream",
     "name": "stdout",
     "text": "Help on class Dropdown in module dash_core_components.Dropdown:\n\nclass Dropdown(dash.development.base_component.Component)\n |  Dropdown(id=undefined, options=undefined, value=undefined, optionHeight=undefined, className=undefined, clearable=undefined, disabled=undefined, multi=undefined, placeholder=undefined, searchable=undefined, search_value=undefined, style=undefined, loading_state=undefined, persistence=undefined, persisted_props=undefined, persistence_type=undefined, **kwargs)\n |  \n |  A Dropdown component.\n |  Dropdown is an interactive dropdown element for selecting one or more\n |  items.\n |  The values and labels of the dropdown items are specified in the `options`\n |  property and the selected item(s) are specified with the `value` property.\n |  \n |  Use a dropdown when you have many options (more than 5) or when you are\n |  constrained for space. Otherwise, you can use RadioItems or a Checklist,\n |  which have the benefit of showing the users all of the items at once.\n |  \n |  Keyword arguments:\n |  - id (string; optional): The ID of this component, used to identify dash components\n |  in callbacks. The ID needs to be unique across all of the\n |  components in an app.\n |  - options (dict; optional): An array of options {label: [string|number], value: [string|number]},\n |  an optional disabled field can be used for each option. options has the following type: list of dicts containing keys 'label', 'value', 'disabled'.\n |  Those keys have the following types:\n |    - label (string | number; required): The dropdown's label\n |    - value (string | number; required): The value of the dropdown. This value\n |  corresponds to the items specified in the\n |  `value` property.\n |    - disabled (boolean; optional): If true, this option is disabled and cannot be selected.\n |  - value (string | number | list of string | numbers; optional): The value of the input. If `multi` is false (the default)\n |  then value is just a string that corresponds to the values\n |  provided in the `options` property. If `multi` is true, then\n |  multiple values can be selected at once, and `value` is an\n |  array of items with values corresponding to those in the\n |  `options` prop.\n |  - optionHeight (number; default 35): height of each option. Can be increased when label lengths would wrap around\n |  - className (string; optional): className of the dropdown element\n |  - clearable (boolean; default True): Whether or not the dropdown is \"clearable\", that is, whether or\n |  not a small \"x\" appears on the right of the dropdown that removes\n |  the selected value.\n |  - disabled (boolean; default False): If true, this dropdown is disabled and the selection cannot be changed.\n |  - multi (boolean; default False): If true, the user can select multiple values\n |  - placeholder (string; optional): The grey, default text shown when no option is selected\n |  - searchable (boolean; default True): Whether to enable the searching feature or not\n |  - search_value (string; optional): The value typed in the DropDown for searching.\n |  - style (dict; optional): Defines CSS styles which will override styles previously set.\n |  - loading_state (dict; optional): Object that holds the loading state object coming from dash-renderer. loading_state has the following type: dict containing keys 'is_loading', 'prop_name', 'component_name'.\n |  Those keys have the following types:\n |    - is_loading (boolean; optional): Determines if the component is loading or not\n |    - prop_name (string; optional): Holds which property is loading\n |    - component_name (string; optional): Holds the name of the component that is loading\n |  - persistence (boolean | string | number; optional): Used to allow user interactions in this component to be persisted when\n |  the component - or the page - is refreshed. If `persisted` is truthy and\n |  hasn't changed from its previous value, a `value` that the user has\n |  changed while using the app will keep that change, as long as\n |  the new `value` also matches what was given originally.\n |  Used in conjunction with `persistence_type`.\n |  - persisted_props (list of a value equal to: 'value's; default ['value']): Properties whose user interactions will persist after refreshing the\n |  component or the page. Since only `value` is allowed this prop can\n |  normally be ignored.\n |  - persistence_type (a value equal to: 'local', 'session', 'memory'; default 'local'): Where persisted user changes will be stored:\n |  memory: only kept in memory, reset on page refresh.\n |  local: window.localStorage, data is kept after the browser quit.\n |  session: window.sessionStorage, data is cleared once the browser quit.\n |  \n |  Method resolution order:\n |      Dropdown\n |      dash.development.base_component.Component\n |      builtins.object\n |  \n |  Methods defined here:\n |  \n |  __init__ = wrapper(self, id=undefined, options=undefined, value=undefined, optionHeight=undefined, className=undefined, clearable=undefined, disabled=undefined, multi=undefined, placeholder=undefined, searchable=undefined, search_value=undefined, style=undefined, loading_state=undefined, persistence=undefined, persisted_props=undefined, persistence_type=undefined, **kwargs)\n |  \n |  ----------------------------------------------------------------------\n |  Data and other attributes defined here:\n |  \n |  __abstractmethods__ = frozenset()\n |  \n |  ----------------------------------------------------------------------\n |  Methods inherited from dash.development.base_component.Component:\n |  \n |  __delitem__(self, id)\n |      Delete items by ID in the tree of children.\n |  \n |  __getitem__(self, id)\n |      Recursively find the element with the given ID through the tree of\n |      children.\n |  \n |  __iter__(self)\n |      Yield IDs in the tree of children.\n |  \n |  __len__(self)\n |      Return the number of items in the tree.\n |  \n |  __repr__(self)\n |      Return repr(self).\n |  \n |  __setitem__(self, id, item)\n |      Set an element by its ID.\n |  \n |  to_plotly_json(self)\n |  \n |  ----------------------------------------------------------------------\n |  Data descriptors inherited from dash.development.base_component.Component:\n |  \n |  __dict__\n |      dictionary for instance variables (if defined)\n |  \n |  __weakref__\n |      list of weak references to the object (if defined)\n |  \n |  ----------------------------------------------------------------------\n |  Data and other attributes inherited from dash.development.base_component.Component:\n |  \n |  REQUIRED = required\n |  \n |  UNDEFINED = undefined\n\n"
    }
   ],
   "source": [
    "help(dcc.Dropdown)"
   ]
  },
  {
   "cell_type": "code",
   "execution_count": 3,
   "metadata": {},
   "outputs": [],
   "source": [
    "N = 100\n",
    "\n",
    "df = pd.DataFrame({\n",
    "    'category': (\n",
    "        (['apples'] * 5 * N) +\n",
    "        (['oranges'] * 10 * N) +\n",
    "        (['figs'] * 20 * N) +\n",
    "        (['pineapples'] * 15 * N)\n",
    "    )\n",
    "})"
   ]
  },
  {
   "cell_type": "code",
   "execution_count": 4,
   "metadata": {},
   "outputs": [
    {
     "output_type": "execute_result",
     "data": {
      "text/plain": "        category\n0         apples\n1         apples\n2         apples\n3         apples\n4         apples\n...          ...\n4995  pineapples\n4996  pineapples\n4997  pineapples\n4998  pineapples\n4999  pineapples\n\n[5000 rows x 1 columns]",
      "text/html": "<div>\n<style scoped>\n    .dataframe tbody tr th:only-of-type {\n        vertical-align: middle;\n    }\n\n    .dataframe tbody tr th {\n        vertical-align: top;\n    }\n\n    .dataframe thead th {\n        text-align: right;\n    }\n</style>\n<table border=\"1\" class=\"dataframe\">\n  <thead>\n    <tr style=\"text-align: right;\">\n      <th></th>\n      <th>category</th>\n    </tr>\n  </thead>\n  <tbody>\n    <tr>\n      <td>0</td>\n      <td>apples</td>\n    </tr>\n    <tr>\n      <td>1</td>\n      <td>apples</td>\n    </tr>\n    <tr>\n      <td>2</td>\n      <td>apples</td>\n    </tr>\n    <tr>\n      <td>3</td>\n      <td>apples</td>\n    </tr>\n    <tr>\n      <td>4</td>\n      <td>apples</td>\n    </tr>\n    <tr>\n      <td>...</td>\n      <td>...</td>\n    </tr>\n    <tr>\n      <td>4995</td>\n      <td>pineapples</td>\n    </tr>\n    <tr>\n      <td>4996</td>\n      <td>pineapples</td>\n    </tr>\n    <tr>\n      <td>4997</td>\n      <td>pineapples</td>\n    </tr>\n    <tr>\n      <td>4998</td>\n      <td>pineapples</td>\n    </tr>\n    <tr>\n      <td>4999</td>\n      <td>pineapples</td>\n    </tr>\n  </tbody>\n</table>\n<p>5000 rows × 1 columns</p>\n</div>"
     },
     "metadata": {},
     "execution_count": 4
    }
   ],
   "source": [
    "df"
   ]
  },
  {
   "cell_type": "code",
   "execution_count": 1,
   "metadata": {},
   "outputs": [],
   "source": [
    "import uuid"
   ]
  },
  {
   "cell_type": "code",
   "execution_count": 16,
   "metadata": {},
   "outputs": [
    {
     "output_type": "execute_result",
     "data": {
      "text/plain": "UUID('80468434-baea-4201-8f5f-2bc2f5cf6e05')"
     },
     "metadata": {},
     "execution_count": 16
    }
   ],
   "source": [
    "uuid.uuid4()"
   ]
  },
  {
   "cell_type": "code",
   "execution_count": null,
   "metadata": {},
   "outputs": [],
   "source": []
  }
 ]
}