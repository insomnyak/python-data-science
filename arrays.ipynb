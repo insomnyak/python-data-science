{
 "nbformat": 4,
 "nbformat_minor": 2,
 "metadata": {
  "language_info": {
   "name": "python",
   "codemirror_mode": {
    "name": "ipython",
    "version": 3
   },
   "version": "3.7.4-final"
  },
  "orig_nbformat": 2,
  "file_extension": ".py",
  "mimetype": "text/x-python",
  "name": "python",
  "npconvert_exporter": "python",
  "pygments_lexer": "ipython3",
  "version": 3,
  "kernelspec": {
   "name": "python37464bitbasecondaf0706b43a6b3489e9350974813357002",
   "display_name": "Python 3.7.4 64-bit ('base': conda)"
  }
 },
 "cells": [
  {
   "cell_type": "code",
   "execution_count": 1,
   "metadata": {},
   "outputs": [
    {
     "output_type": "execute_result",
     "data": {
      "text/plain": "[23, 1234, 1234, -9789]"
     },
     "metadata": {},
     "execution_count": 1
    }
   ],
   "source": [
    "l = [23, 1234, 1234, -9789]\n",
    "l"
   ]
  },
  {
   "cell_type": "markdown",
   "metadata": {},
   "source": [
    "- python arrays vs numpy arrays \n",
    "- use numpy arrays >> more versatile\n",
    "- array can only have one data type\n"
   ]
  },
  {
   "cell_type": "code",
   "execution_count": 3,
   "metadata": {},
   "outputs": [],
   "source": [
    "import numpy as np "
   ]
  },
  {
   "cell_type": "code",
   "execution_count": 4,
   "metadata": {},
   "outputs": [],
   "source": [
    "a = np.array(l)"
   ]
  },
  {
   "cell_type": "code",
   "execution_count": 7,
   "metadata": {},
   "outputs": [
    {
     "output_type": "stream",
     "name": "stdout",
     "text": "['12' '455' '63.3' 'True' 'asd']\n"
    },
    {
     "output_type": "execute_result",
     "data": {
      "text/plain": "array(['12', '455', '63.3', 'True', 'asd'], dtype='<U32')"
     },
     "metadata": {},
     "execution_count": 7
    }
   ],
   "source": [
    "b = np.array([12, 455, 63.3, True, 'asd'])\n",
    "print(b)\n",
    "b"
   ]
  },
  {
   "cell_type": "code",
   "execution_count": 9,
   "metadata": {},
   "outputs": [
    {
     "output_type": "execute_result",
     "data": {
      "text/plain": "1234"
     },
     "metadata": {},
     "execution_count": 9
    }
   ],
   "source": [
    "l.pop()"
   ]
  },
  {
   "cell_type": "code",
   "execution_count": 10,
   "metadata": {},
   "outputs": [
    {
     "output_type": "execute_result",
     "data": {
      "text/plain": "[23, 1234]"
     },
     "metadata": {},
     "execution_count": 10
    }
   ],
   "source": [
    "l"
   ]
  },
  {
   "cell_type": "code",
   "execution_count": 11,
   "metadata": {},
   "outputs": [
    {
     "output_type": "stream",
     "name": "stdout",
     "text": "1234\n-1824.5\n"
    }
   ],
   "source": [
    "print(\n",
    "    a.max(),\n",
    "    a.mean(),\n",
    "    sep='\\n'\n",
    ")"
   ]
  },
  {
   "cell_type": "code",
   "execution_count": 12,
   "metadata": {},
   "outputs": [],
   "source": [
    "c = np.array(list(range(25)))"
   ]
  },
  {
   "cell_type": "code",
   "execution_count": 15,
   "metadata": {},
   "outputs": [
    {
     "output_type": "stream",
     "name": "stdout",
     "text": "[2 3 4]\n[  0   1 111 111 111   5   6   7   8   9  10  11  12  13  14  15  16  17\n  18  19  20  21  22  23  24]\n"
    }
   ],
   "source": [
    "# arrays follow object-oriented principals. c[2:5] is a view of array c\n",
    "d = c[2:5]\n",
    "print(d) \n",
    "d[:] = 111\n",
    "print(c)"
   ]
  },
  {
   "cell_type": "code",
   "execution_count": 17,
   "metadata": {},
   "outputs": [
    {
     "output_type": "stream",
     "name": "stdout",
     "text": "[999   1 111 111 111   5   6   7   8   9  10  11  12  13  14  15  16  17\n  18  19  20  21  22  23  24]\n[  0   1 111 111 111   5   6   7   8   9  10  11  12  13  14  15  16  17\n  18  19  20  21  22  23  24]\n"
    }
   ],
   "source": [
    "e = c.copy() \n",
    "e[0] = 999\n",
    "print(e)\n",
    "print(c) "
   ]
  }
 ]
}