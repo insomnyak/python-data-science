{
 "nbformat": 4,
 "nbformat_minor": 2,
 "metadata": {
  "language_info": {
   "name": "python",
   "codemirror_mode": {
    "name": "ipython",
    "version": 3
   },
   "version": "3.7.4-final"
  },
  "orig_nbformat": 2,
  "file_extension": ".py",
  "mimetype": "text/x-python",
  "name": "python",
  "npconvert_exporter": "python",
  "pygments_lexer": "ipython3",
  "version": 3,
  "kernelspec": {
   "name": "python37464bitbasecondaf0706b43a6b3489e9350974813357002",
   "display_name": "Python 3.7.4 64-bit ('base': conda)"
  }
 },
 "cells": [
  {
   "cell_type": "code",
   "execution_count": 3,
   "metadata": {},
   "outputs": [
    {
     "output_type": "stream",
     "name": "stdout",
     "text": "[0, 1, 2, 3, 4]\n<class 'list'>\n"
    }
   ],
   "source": [
    "x = list(range(5))\n",
    "print(\n",
    "    x,\n",
    "    type(x),\n",
    "    sep='\\n'\n",
    ")"
   ]
  },
  {
   "cell_type": "code",
   "execution_count": 20,
   "metadata": {},
   "outputs": [
    {
     "output_type": "stream",
     "name": "stdout",
     "text": "[4, 'string', True, 0.5, '45', [0, 1, 2, 3]]\n0\n4\n"
    }
   ],
   "source": [
    "# lists can have mixed data types\n",
    "y = [4, 'string', True, 0.5]\n",
    "y.append('45')\n",
    "y.append(list(range(4)))\n",
    "print(\n",
    "    y,\n",
    "    y.index(4),\n",
    "    y[0],\n",
    "    sep='\\n'\n",
    ")"
   ]
  },
  {
   "cell_type": "code",
   "execution_count": 17,
   "metadata": {},
   "outputs": [
    {
     "output_type": "stream",
     "name": "stdout",
     "text": "[1, 2, 3, 4, 5, 6, 7]\n[5, 10, 15, 20, 25, 30, 35, 40, 45, 50, 55, 60, 65, 70, 75, 80, 85, 90, 95, 100, 105, 110, 115, 120, 125]\n"
    }
   ],
   "source": [
    "z = list(range(1, 8))\n",
    "w = list(range(5, 130, 5))\n",
    "print(\n",
    "    z,\n",
    "    w,\n",
    "    sep='\\n'\n",
    ")"
   ]
  },
  {
   "cell_type": "code",
   "execution_count": 39,
   "metadata": {},
   "outputs": [
    {
     "output_type": "stream",
     "name": "stdout",
     "text": "0\n6\n[4, True, '45']\n['string', '45']\n"
    }
   ],
   "source": [
    "# python has two indexations for lists\n",
    "# starts at 0 from left\n",
    "# starts at -1 from right\n",
    "print(\n",
    "    x[0],\n",
    "    len(y),\n",
    "    y[0:-1:2],\n",
    "    y[1:-1:3],\n",
    "    sep='\\n'\n",
    ")"
   ]
  },
  {
   "cell_type": "code",
   "execution_count": 89,
   "metadata": {},
   "outputs": [],
   "source": [
    "import time as t"
   ]
  },
  {
   "cell_type": "code",
   "execution_count": 107,
   "metadata": {},
   "outputs": [
    {
     "output_type": "stream",
     "name": "stdout",
     "text": "[2, 5, 8, 11, 14]\n[0, 1, 2, 3, 4, 5, 6, 7, 8, 9, 10, 11, 12, 13, 14]\n1585279328.041578\n[14, 13, 12, 11, 10, 9, 8, 7, 6, 5, 4, 3, 2, 1, 0]\n1585279328.041578\n[7, 6, 5, 4, 3, 2, 1, 0]\n"
    }
   ],
   "source": [
    "l1 = list(range(15))\n",
    "print(\n",
    "    l1[2:len(l1):3],\n",
    "    l1[:],\n",
    "    t.time(),\n",
    "    l1[::-1],\n",
    "    t.time(),\n",
    "    l1[7::-1],\n",
    "    sep='\\n'\n",
    ")"
   ]
  },
  {
   "cell_type": "code",
   "execution_count": 88,
   "metadata": {},
   "outputs": [
    {
     "output_type": "execute_result",
     "data": {
      "text/plain": "1585202803.562952"
     },
     "metadata": {},
     "execution_count": 88
    }
   ],
   "source": [
    "time.time()"
   ]
  }
 ]
}