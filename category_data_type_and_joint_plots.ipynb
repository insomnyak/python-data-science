{
 "nbformat": 4,
 "nbformat_minor": 2,
 "metadata": {
  "language_info": {
   "name": "python",
   "codemirror_mode": {
    "name": "ipython",
    "version": 3
   },
   "version": "3.7.4-final"
  },
  "orig_nbformat": 2,
  "file_extension": ".py",
  "mimetype": "text/x-python",
  "name": "python",
  "npconvert_exporter": "python",
  "pygments_lexer": "ipython3",
  "version": 3,
  "kernelspec": {
   "name": "python37464bitbasecondaf0706b43a6b3489e9350974813357002",
   "display_name": "Python 3.7.4 64-bit ('base': conda)"
  }
 },
 "cells": [
  {
   "cell_type": "code",
   "execution_count": 26,
   "metadata": {},
   "outputs": [
    {
     "output_type": "execute_result",
     "data": {
      "text/plain": "'/Users/kamil/Documents/insomnyak-llc/development/python-dev/udemy_data_science_course_5499048'"
     },
     "metadata": {},
     "execution_count": 26
    }
   ],
   "source": [
    "import pandas as pd \n",
    "import os\n",
    "\n",
    "os.getcwd()"
   ]
  },
  {
   "cell_type": "code",
   "execution_count": 27,
   "metadata": {},
   "outputs": [],
   "source": [
    "movies = pd.read_csv('data/P4-Movie-Ratings.csv')"
   ]
  },
  {
   "cell_type": "code",
   "execution_count": 28,
   "metadata": {},
   "outputs": [
    {
     "output_type": "stream",
     "name": "stdout",
     "text": "<class 'pandas.core.frame.DataFrame'>\nRangeIndex: 559 entries, 0 to 558\nData columns (total 6 columns):\nFilm                         559 non-null object\nGenre                        559 non-null object\nRotten Tomatoes Ratings %    559 non-null int64\nAudience Ratings %           559 non-null int64\nBudget (million $)           559 non-null int64\nYear of release              559 non-null int64\ndtypes: int64(4), object(2)\nmemory usage: 26.3+ KB\n"
    }
   ],
   "source": [
    "movies.info()"
   ]
  },
  {
   "cell_type": "code",
   "execution_count": 29,
   "metadata": {},
   "outputs": [
    {
     "output_type": "execute_result",
     "data": {
      "text/plain": "Index(['Film', 'Genre', 'Rotten Tomatoes Ratings %', 'Audience Ratings %',\n       'Budget (million $)', 'Year of release'],\n      dtype='object')"
     },
     "metadata": {},
     "execution_count": 29
    }
   ],
   "source": [
    "movies.columns"
   ]
  },
  {
   "cell_type": "code",
   "execution_count": 30,
   "metadata": {},
   "outputs": [
    {
     "output_type": "execute_result",
     "data": {
      "text/plain": "                    Film      Genre  CriticRating  AudienceRating  \\\n0  (500) Days of Summer      Comedy            87              81   \n1            10,000 B.C.  Adventure             9              44   \n2             12 Rounds      Action            30              52   \n3              127 Hours  Adventure            93              84   \n4              17 Again      Comedy            55              70   \n\n   BudgetMillions  YearOfRelease  \n0               8           2009  \n1             105           2008  \n2              20           2009  \n3              18           2010  \n4              20           2009  ",
      "text/html": "<div>\n<style scoped>\n    .dataframe tbody tr th:only-of-type {\n        vertical-align: middle;\n    }\n\n    .dataframe tbody tr th {\n        vertical-align: top;\n    }\n\n    .dataframe thead th {\n        text-align: right;\n    }\n</style>\n<table border=\"1\" class=\"dataframe\">\n  <thead>\n    <tr style=\"text-align: right;\">\n      <th></th>\n      <th>Film</th>\n      <th>Genre</th>\n      <th>CriticRating</th>\n      <th>AudienceRating</th>\n      <th>BudgetMillions</th>\n      <th>YearOfRelease</th>\n    </tr>\n  </thead>\n  <tbody>\n    <tr>\n      <td>0</td>\n      <td>(500) Days of Summer</td>\n      <td>Comedy</td>\n      <td>87</td>\n      <td>81</td>\n      <td>8</td>\n      <td>2009</td>\n    </tr>\n    <tr>\n      <td>1</td>\n      <td>10,000 B.C.</td>\n      <td>Adventure</td>\n      <td>9</td>\n      <td>44</td>\n      <td>105</td>\n      <td>2008</td>\n    </tr>\n    <tr>\n      <td>2</td>\n      <td>12 Rounds</td>\n      <td>Action</td>\n      <td>30</td>\n      <td>52</td>\n      <td>20</td>\n      <td>2009</td>\n    </tr>\n    <tr>\n      <td>3</td>\n      <td>127 Hours</td>\n      <td>Adventure</td>\n      <td>93</td>\n      <td>84</td>\n      <td>18</td>\n      <td>2010</td>\n    </tr>\n    <tr>\n      <td>4</td>\n      <td>17 Again</td>\n      <td>Comedy</td>\n      <td>55</td>\n      <td>70</td>\n      <td>20</td>\n      <td>2009</td>\n    </tr>\n  </tbody>\n</table>\n</div>"
     },
     "metadata": {},
     "execution_count": 30
    }
   ],
   "source": [
    "movies.columns = ['Film', 'Genre', 'CriticRating', 'AudienceRating', \\\n",
    "    'BudgetMillions', 'YearOfRelease']\n",
    "movies.head()"
   ]
  },
  {
   "cell_type": "code",
   "execution_count": 31,
   "metadata": {},
   "outputs": [
    {
     "output_type": "execute_result",
     "data": {
      "text/plain": "       CriticRating  AudienceRating  BudgetMillions  YearOfRelease\ncount    559.000000      559.000000      559.000000     559.000000\nmean      47.309481       58.744186       50.236136    2009.152057\nstd       26.413091       16.826887       48.731817       1.362632\nmin        0.000000        0.000000        0.000000    2007.000000\n25%       25.000000       47.000000       20.000000    2008.000000\n50%       46.000000       58.000000       35.000000    2009.000000\n75%       70.000000       72.000000       65.000000    2010.000000\nmax       97.000000       96.000000      300.000000    2011.000000",
      "text/html": "<div>\n<style scoped>\n    .dataframe tbody tr th:only-of-type {\n        vertical-align: middle;\n    }\n\n    .dataframe tbody tr th {\n        vertical-align: top;\n    }\n\n    .dataframe thead th {\n        text-align: right;\n    }\n</style>\n<table border=\"1\" class=\"dataframe\">\n  <thead>\n    <tr style=\"text-align: right;\">\n      <th></th>\n      <th>CriticRating</th>\n      <th>AudienceRating</th>\n      <th>BudgetMillions</th>\n      <th>YearOfRelease</th>\n    </tr>\n  </thead>\n  <tbody>\n    <tr>\n      <td>count</td>\n      <td>559.000000</td>\n      <td>559.000000</td>\n      <td>559.000000</td>\n      <td>559.000000</td>\n    </tr>\n    <tr>\n      <td>mean</td>\n      <td>47.309481</td>\n      <td>58.744186</td>\n      <td>50.236136</td>\n      <td>2009.152057</td>\n    </tr>\n    <tr>\n      <td>std</td>\n      <td>26.413091</td>\n      <td>16.826887</td>\n      <td>48.731817</td>\n      <td>1.362632</td>\n    </tr>\n    <tr>\n      <td>min</td>\n      <td>0.000000</td>\n      <td>0.000000</td>\n      <td>0.000000</td>\n      <td>2007.000000</td>\n    </tr>\n    <tr>\n      <td>25%</td>\n      <td>25.000000</td>\n      <td>47.000000</td>\n      <td>20.000000</td>\n      <td>2008.000000</td>\n    </tr>\n    <tr>\n      <td>50%</td>\n      <td>46.000000</td>\n      <td>58.000000</td>\n      <td>35.000000</td>\n      <td>2009.000000</td>\n    </tr>\n    <tr>\n      <td>75%</td>\n      <td>70.000000</td>\n      <td>72.000000</td>\n      <td>65.000000</td>\n      <td>2010.000000</td>\n    </tr>\n    <tr>\n      <td>max</td>\n      <td>97.000000</td>\n      <td>96.000000</td>\n      <td>300.000000</td>\n      <td>2011.000000</td>\n    </tr>\n  </tbody>\n</table>\n</div>"
     },
     "metadata": {},
     "execution_count": 31
    }
   ],
   "source": [
    "movies.describe()"
   ]
  },
  {
   "cell_type": "code",
   "execution_count": 38,
   "metadata": {},
   "outputs": [],
   "source": [
    "movies.Film = movies.Film.astype('category') # in R, categories are called factors\n",
    "movies.Genre = movies.Genre.astype('category')\n",
    "movies.YearOfRelease = movies.YearOfRelease.astype('category')"
   ]
  },
  {
   "cell_type": "code",
   "execution_count": 39,
   "metadata": {},
   "outputs": [
    {
     "output_type": "stream",
     "name": "stdout",
     "text": "<class 'pandas.core.frame.DataFrame'>\nRangeIndex: 559 entries, 0 to 558\nData columns (total 6 columns):\nFilm              559 non-null category\nGenre             559 non-null category\nCriticRating      559 non-null int64\nAudienceRating    559 non-null int64\nBudgetMillions    559 non-null int64\nYearOfRelease     559 non-null category\ndtypes: category(3), int64(3)\nmemory usage: 40.3 KB\n"
    }
   ],
   "source": [
    "movies.info()"
   ]
  },
  {
   "cell_type": "code",
   "execution_count": 41,
   "metadata": {},
   "outputs": [
    {
     "output_type": "execute_result",
     "data": {
      "text/plain": "Index(['Action', 'Adventure', 'Comedy', 'Drama', 'Horror', 'Romance',\n       'Thriller'],\n      dtype='object')"
     },
     "metadata": {},
     "execution_count": 41
    }
   ],
   "source": [
    "movies.Genre.cat.categories"
   ]
  },
  {
   "cell_type": "code",
   "execution_count": 42,
   "metadata": {},
   "outputs": [
    {
     "output_type": "execute_result",
     "data": {
      "text/plain": "       CriticRating  AudienceRating  BudgetMillions\ncount    559.000000      559.000000      559.000000\nmean      47.309481       58.744186       50.236136\nstd       26.413091       16.826887       48.731817\nmin        0.000000        0.000000        0.000000\n25%       25.000000       47.000000       20.000000\n50%       46.000000       58.000000       35.000000\n75%       70.000000       72.000000       65.000000\nmax       97.000000       96.000000      300.000000",
      "text/html": "<div>\n<style scoped>\n    .dataframe tbody tr th:only-of-type {\n        vertical-align: middle;\n    }\n\n    .dataframe tbody tr th {\n        vertical-align: top;\n    }\n\n    .dataframe thead th {\n        text-align: right;\n    }\n</style>\n<table border=\"1\" class=\"dataframe\">\n  <thead>\n    <tr style=\"text-align: right;\">\n      <th></th>\n      <th>CriticRating</th>\n      <th>AudienceRating</th>\n      <th>BudgetMillions</th>\n    </tr>\n  </thead>\n  <tbody>\n    <tr>\n      <td>count</td>\n      <td>559.000000</td>\n      <td>559.000000</td>\n      <td>559.000000</td>\n    </tr>\n    <tr>\n      <td>mean</td>\n      <td>47.309481</td>\n      <td>58.744186</td>\n      <td>50.236136</td>\n    </tr>\n    <tr>\n      <td>std</td>\n      <td>26.413091</td>\n      <td>16.826887</td>\n      <td>48.731817</td>\n    </tr>\n    <tr>\n      <td>min</td>\n      <td>0.000000</td>\n      <td>0.000000</td>\n      <td>0.000000</td>\n    </tr>\n    <tr>\n      <td>25%</td>\n      <td>25.000000</td>\n      <td>47.000000</td>\n      <td>20.000000</td>\n    </tr>\n    <tr>\n      <td>50%</td>\n      <td>46.000000</td>\n      <td>58.000000</td>\n      <td>35.000000</td>\n    </tr>\n    <tr>\n      <td>75%</td>\n      <td>70.000000</td>\n      <td>72.000000</td>\n      <td>65.000000</td>\n    </tr>\n    <tr>\n      <td>max</td>\n      <td>97.000000</td>\n      <td>96.000000</td>\n      <td>300.000000</td>\n    </tr>\n  </tbody>\n</table>\n</div>"
     },
     "metadata": {},
     "execution_count": 42
    }
   ],
   "source": [
    "movies.describe()"
   ]
  }
 ]
}