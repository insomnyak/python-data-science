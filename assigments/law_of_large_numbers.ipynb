{
 "nbformat": 4,
 "nbformat_minor": 2,
 "metadata": {
  "language_info": {
   "name": "python",
   "codemirror_mode": {
    "name": "ipython",
    "version": 3
   },
   "version": "3.7.4-final"
  },
  "orig_nbformat": 2,
  "file_extension": ".py",
  "mimetype": "text/x-python",
  "name": "python",
  "npconvert_exporter": "python",
  "pygments_lexer": "ipython3",
  "version": 3,
  "kernelspec": {
   "name": "python37464bitbasecondaf0706b43a6b3489e9350974813357002",
   "display_name": "Python 3.7.4 64-bit ('base': conda)"
  }
 },
 "cells": [
  {
   "cell_type": "markdown",
   "metadata": {},
   "source": [
    "# Law of Large Numbers\n",
    "![law of large numbers](img/law-of-large-numbers.png)\n",
    "\n",
    "Average of sample (n = observation) will converge to expected value of that measure as n approaches infinity\n",
    "\n",
    "# Normal Distribution\n",
    "![normal distribution](img/normal-distribution.png)"
   ],
   "execution_count": null,
   "outputs": []
  },
  {
   "cell_type": "markdown",
   "metadata": {},
   "source": [
    "<h2>Assignment</h2>\n",
    "<img src=\"img/assignment-lln.png\" style=\"max-width:70%;\" />"
   ],
   "execution_count": null,
   "outputs": []
  },
  {
   "cell_type": "code",
   "execution_count": null,
   "metadata": {},
   "outputs": [],
   "source": [
    "import numpy as np \n",
    "from numpy.random import randn"
   ]
  },
  {
   "cell_type": "code",
   "execution_count": null,
   "metadata": {},
   "outputs": [],
   "source": [
    "min_N = 10\n",
    "max_N = 1000\n",
    "for n in range(min_N, max_N + 1):\n",
    "    count = 0\n",
    "    for i in randn(n):\n",
    "        if i > -1 and i < 1:\n",
    "            count += 1\n",
    "    percent = count / n * 100\n",
    "    if n > (max_N - 25):\n",
    "        print('For sample size %d E(X) = %.2f%%' % (n, percent))"
   ]
  },
  {
   "cell_type": "code",
   "execution_count": null,
   "metadata": {},
   "outputs": [],
   "source": []
  }
 ]
}