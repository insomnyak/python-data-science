{
 "nbformat": 4,
 "nbformat_minor": 2,
 "metadata": {
  "language_info": {
   "name": "python",
   "codemirror_mode": {
    "name": "ipython",
    "version": 3
   },
   "version": "3.7.4-final"
  },
  "orig_nbformat": 2,
  "file_extension": ".py",
  "mimetype": "text/x-python",
  "name": "python",
  "npconvert_exporter": "python",
  "pygments_lexer": "ipython3",
  "version": 3,
  "kernelspec": {
   "name": "python37464bitbasecondaf0706b43a6b3489e9350974813357002",
   "display_name": "Python 3.7.4 64-bit ('base': conda)"
  }
 },
 "cells": [
  {
   "cell_type": "markdown",
   "metadata": {},
   "source": [
    "![hw assignment](img/financial-statement-hw.png)\n",
    "![hw-results](img/financial-statement-hw-results.png)"
   ],
   "execution_count": null,
   "outputs": []
  },
  {
   "cell_type": "code",
   "execution_count": 12,
   "metadata": {},
   "outputs": [],
   "source": [
    "import numpy as np \n",
    "# import pandas as pd "
   ]
  },
  {
   "cell_type": "code",
   "execution_count": 13,
   "metadata": {},
   "outputs": [],
   "source": [
    "#Data \n",
    "revenue = [14574.49, 7606.46, 8611.41, 9175.41, 8058.65, 8105.44, 11496.28, 9766.09, 10305.32, 14379.96, 10713.97, 15433.50]\n",
    "expenses = [12051.82, 5695.07, 12319.20, 12089.72, 8658.57, 840.20, 3285.73, 5821.12, 6976.93, 16618.61, 10054.37, 3803.96]"
   ]
  },
  {
   "cell_type": "code",
   "execution_count": 14,
   "metadata": {},
   "outputs": [
    {
     "output_type": "execute_result",
     "data": {
      "text/plain": "0"
     },
     "metadata": {},
     "execution_count": 14
    }
   ],
   "source": [
    "len(revenue) - len(expenses)"
   ]
  },
  {
   "cell_type": "code",
   "execution_count": 20,
   "metadata": {},
   "outputs": [],
   "source": [
    "rev = np.array(revenue)\n",
    "exp = np.array(expenses)\n",
    "tax = 0.3"
   ]
  },
  {
   "cell_type": "code",
   "execution_count": 40,
   "metadata": {},
   "outputs": [],
   "source": [
    "profit = rev - exp \n",
    "profit_after_tax = rev * (1 - tax) - exp \n",
    "\n",
    "profit_margin = profit_after_tax / rev\n",
    "\n",
    "mean_profit_after_tax = profit_after_tax.mean()\n",
    "good_months = profit_after_tax[profit_after_tax > mean_profit_after_tax]\n",
    "bad_months = profit_after_tax[profit_after_tax < mean_profit_after_tax]\n",
    "best_month = profit_after_tax[profit_after_tax == profit_after_tax.max()]\n",
    "worst_month = profit_after_tax[profit_after_tax == profit_after_tax.min()]"
   ]
  },
  {
   "cell_type": "code",
   "execution_count": 45,
   "metadata": {},
   "outputs": [
    {
     "output_type": "stream",
     "name": "stdout",
     "text": "Results\n---------------------------------\nProfit: [2523, 1911, -3708, -2914, -600, 7265, 8211, 3945, 3328, -2239, 660, 11630]\nProfit After Tax: [-1850, -371, -6291, -5667, -3018, 4834, 4762, 1015, 237, -6553, -2555,\n 6999]\nProfit Margin: [-0, -0, -1, -1, -0, 1, 0, 0, 0, -0, -0, 0]\nGood Months: [-371, 4834, 4762, 1015, 237, 6999]\nBad Months: [-1850, -6291, -5667, -3018, -6553, -2555]\nBest Month: [6999]\nWorst Month: [-6553]\n"
    }
   ],
   "source": [
    "print(\n",
    "    \"Results\",\n",
    "    \"-\"*33,\n",
    "    \"Profit: \" + np.array2string(profit, formatter={'float_kind': lambda x: '%0.0f' % x }, separator=', '),\n",
    "    \"Profit After Tax: \" + np.array2string(profit_after_tax, formatter={'float_kind': lambda x: '%0.0f' % x }, separator=', '),\n",
    "    \"Profit Margin: \" + np.array2string(profit_margin, formatter={'float_kind': lambda x: '%0.0f' % x }, separator=', '),\n",
    "    \"Good Months: \" + np.array2string(good_months, formatter={'float_kind': lambda x: '%0.0f' % x }, separator=', '),\n",
    "    \"Bad Months: \" + np.array2string(bad_months, formatter={'float_kind': lambda x: '%0.0f' % x }, separator=', '),\n",
    "    \"Best Month: \" + np.array2string(best_month, formatter={'float_kind': lambda x: '%0.0f' % x }, separator=', '),\n",
    "    \"Worst Month: \" + np.array2string(worst_month, formatter={'float_kind': lambda x: '%0.0f' % x }, separator=', '),\n",
    "    sep=\"\\n\"\n",
    ")"
   ]
  },
  {
   "cell_type": "code",
   "execution_count": 39,
   "metadata": {},
   "outputs": [
    {
     "output_type": "execute_result",
     "data": {
      "text/plain": "'[-371, 4834, 4762, 1015, 237, 6999]'"
     },
     "metadata": {},
     "execution_count": 39
    }
   ],
   "source": [
    "np.array2string(good_monhts, formatter={'float_kind': lambda x: '%0.0f' % x }, separator=', ')"
   ]
  },
  {
   "cell_type": "code",
   "execution_count": null,
   "metadata": {},
   "outputs": [],
   "source": []
  },
  {
   "cell_type": "code",
   "execution_count": null,
   "metadata": {},
   "outputs": [],
   "source": [
    "f"
   ]
  },
  {
   "cell_type": "code",
   "execution_count": null,
   "metadata": {},
   "outputs": [],
   "source": []
  }
 ]
}