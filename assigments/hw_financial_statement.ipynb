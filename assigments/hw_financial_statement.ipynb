{
 "nbformat": 4,
 "nbformat_minor": 2,
 "metadata": {
  "language_info": {
   "name": "python",
   "codemirror_mode": {
    "name": "ipython",
    "version": 3
   },
   "version": "3.7.4-final"
  },
  "orig_nbformat": 2,
  "file_extension": ".py",
  "mimetype": "text/x-python",
  "name": "python",
  "npconvert_exporter": "python",
  "pygments_lexer": "ipython3",
  "version": 3,
  "kernelspec": {
   "name": "python37464bitbasecondaf0706b43a6b3489e9350974813357002",
   "display_name": "Python 3.7.4 64-bit ('base': conda)"
  }
 },
 "cells": [
  {
   "cell_type": "markdown",
   "metadata": {},
   "source": [
    "![hw assignment](img/financial-statement-hw.png)\n",
    "![hw-results](img/financial-statement-hw-results.png)"
   ],
   "execution_count": null,
   "outputs": []
  },
  {
   "cell_type": "code",
   "execution_count": 1,
   "metadata": {},
   "outputs": [],
   "source": [
    "import numpy as np \n",
    "# import pandas as pd "
   ]
  },
  {
   "cell_type": "code",
   "execution_count": 2,
   "metadata": {},
   "outputs": [],
   "source": [
    "#Data \n",
    "revenue = [14574.49, 7606.46, 8611.41, 9175.41, 8058.65, 8105.44, 11496.28, 9766.09, 10305.32, 14379.96, 10713.97, 15433.50]\n",
    "expenses = [12051.82, 5695.07, 12319.20, 12089.72, 8658.57, 840.20, 3285.73, 5821.12, 6976.93, 16618.61, 10054.37, 3803.96]"
   ]
  },
  {
   "cell_type": "code",
   "execution_count": 3,
   "metadata": {},
   "outputs": [
    {
     "output_type": "execute_result",
     "data": {
      "text/plain": "0"
     },
     "metadata": {},
     "execution_count": 3
    }
   ],
   "source": [
    "len(revenue) - len(expenses)"
   ]
  },
  {
   "cell_type": "code",
   "execution_count": 4,
   "metadata": {},
   "outputs": [],
   "source": [
    "rev = np.array(revenue)\n",
    "exp = np.array(expenses)\n",
    "tax = 0.3"
   ]
  },
  {
   "cell_type": "code",
   "execution_count": 12,
   "metadata": {},
   "outputs": [],
   "source": [
    "profit = rev - exp \n",
    "profit_after_tax = np.round(profit * (1 - tax), 2)\n",
    "\n",
    "profit_margin = profit_after_tax / rev * 100\n",
    "\n",
    "mean_profit_after_tax = profit_after_tax.mean()\n",
    "good_months = profit_after_tax[profit_after_tax > mean_profit_after_tax]\n",
    "bad_months = profit_after_tax[profit_after_tax < mean_profit_after_tax]\n",
    "best_month = profit_after_tax[profit_after_tax == profit_after_tax.max()]\n",
    "worst_month = profit_after_tax[profit_after_tax == profit_after_tax.min()]"
   ]
  },
  {
   "cell_type": "code",
   "execution_count": 16,
   "metadata": {},
   "outputs": [
    {
     "output_type": "stream",
     "name": "stdout",
     "text": "Results\n---------------------------------\nProfit: [2522.67, 1911.39, -3707.79, -2914.31, -599.92, 7265.24, 8210.55, 3944.97,\n 3328.39, -2238.65, 659.60, 11629.54]\nProfit After Tax: [1765.87, 1337.97, -2595.45, -2040.02, -419.94, 5085.67, 5747.38, 2761.48,\n 2329.87, -1567.06, 461.72, 8140.68]\nProfit Margin: [12.12, 17.59, -30.14, -22.23, -5.21, 62.74, 49.99, 28.28, 22.61, -10.90,\n 4.31, 52.75]\nGood Months: [1765.87, 5085.67, 5747.38, 2761.48, 2329.87, 8140.68]\nBad Months: [1337.97, -2595.45, -2040.02, -419.94, -1567.06, 461.72]\nBest Month: [8140.68]\nWorst Month: [-2595.45]\n"
    }
   ],
   "source": [
    "print(\n",
    "    \"Results\",\n",
    "    \"-\"*33,\n",
    "    \"Profit: \" + np.array2string(profit, formatter={'float_kind': lambda x: '%.2f' % x }, separator=', '),\n",
    "    \"Profit After Tax: \" + np.array2string(profit_after_tax, formatter={'float_kind': lambda x: '%.2f' % x }, separator=', '),\n",
    "    \"Profit Margin: \" + np.array2string(profit_margin, formatter={'float_kind': lambda x: '%.2f' % x }, separator=', '),\n",
    "    \"Good Months: \" + np.array2string(good_months, formatter={'float_kind': lambda x: '%.2f' % x }, separator=', '),\n",
    "    \"Bad Months: \" + np.array2string(bad_months, formatter={'float_kind': lambda x: '%.2f' % x }, separator=', '),\n",
    "    \"Best Month: \" + np.array2string(best_month, formatter={'float_kind': lambda x: '%.2f' % x }, separator=', '),\n",
    "    \"Worst Month: \" + np.array2string(worst_month, formatter={'float_kind': lambda x: '%.2f' % x }, separator=', '),\n",
    "    sep=\"\\n\"\n",
    ")"
   ]
  },
  {
   "cell_type": "code",
   "execution_count": 8,
   "metadata": {},
   "outputs": [
    {
     "output_type": "execute_result",
     "data": {
      "text/plain": "'[-371, 4834, 4762, 1015, 237, 6999]'"
     },
     "metadata": {},
     "execution_count": 8
    }
   ],
   "source": [
    "np.array2string(good_months, formatter={'float_kind': lambda x: '%0.0f' % x }, separator=', ')"
   ]
  }
 ]
}